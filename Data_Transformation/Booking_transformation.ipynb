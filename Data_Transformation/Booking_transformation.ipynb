{
 "cells": [
  {
   "cell_type": "code",
   "execution_count": 1,
   "id": "18910ab7-54a6-434c-bf6f-08059772fefd",
   "metadata": {},
   "outputs": [
    {
     "data": {
      "text/html": [
       "<div>\n",
       "<style scoped>\n",
       "    .dataframe tbody tr th:only-of-type {\n",
       "        vertical-align: middle;\n",
       "    }\n",
       "\n",
       "    .dataframe tbody tr th {\n",
       "        vertical-align: top;\n",
       "    }\n",
       "\n",
       "    .dataframe thead th {\n",
       "        text-align: right;\n",
       "    }\n",
       "</style>\n",
       "<table border=\"1\" class=\"dataframe\">\n",
       "  <thead>\n",
       "    <tr style=\"text-align: right;\">\n",
       "      <th></th>\n",
       "      <th>Property_id</th>\n",
       "      <th>date</th>\n",
       "      <th>availability</th>\n",
       "      <th>price</th>\n",
       "    </tr>\n",
       "  </thead>\n",
       "  <tbody>\n",
       "    <tr>\n",
       "      <th>0</th>\n",
       "      <td>2015</td>\n",
       "      <td>2019-09-10</td>\n",
       "      <td>f</td>\n",
       "      <td>NaN</td>\n",
       "    </tr>\n",
       "    <tr>\n",
       "      <th>1</th>\n",
       "      <td>2015</td>\n",
       "      <td>2019-09-09</td>\n",
       "      <td>f</td>\n",
       "      <td>NaN</td>\n",
       "    </tr>\n",
       "    <tr>\n",
       "      <th>2</th>\n",
       "      <td>2015</td>\n",
       "      <td>2019-09-08</td>\n",
       "      <td>f</td>\n",
       "      <td>NaN</td>\n",
       "    </tr>\n",
       "    <tr>\n",
       "      <th>3</th>\n",
       "      <td>2015</td>\n",
       "      <td>2019-09-07</td>\n",
       "      <td>f</td>\n",
       "      <td>NaN</td>\n",
       "    </tr>\n",
       "    <tr>\n",
       "      <th>4</th>\n",
       "      <td>2015</td>\n",
       "      <td>2019-09-06</td>\n",
       "      <td>f</td>\n",
       "      <td>NaN</td>\n",
       "    </tr>\n",
       "  </tbody>\n",
       "</table>\n",
       "</div>"
      ],
      "text/plain": [
       "   Property_id        date availability price\n",
       "0         2015  2019-09-10            f   NaN\n",
       "1         2015  2019-09-09            f   NaN\n",
       "2         2015  2019-09-08            f   NaN\n",
       "3         2015  2019-09-07            f   NaN\n",
       "4         2015  2019-09-06            f   NaN"
      ]
     },
     "execution_count": 1,
     "metadata": {},
     "output_type": "execute_result"
    }
   ],
   "source": [
    "import pandas as pd\n",
    "\n",
    "data=pd.read_csv(r\"C:\\Users\\MRITH\\Downloads\\Mock_Project\\Booking summary.csv\")\n",
    "data.head()"
   ]
  },
  {
   "cell_type": "code",
   "execution_count": 2,
   "id": "09c4e247-f68d-4122-9eaa-701918446fe8",
   "metadata": {},
   "outputs": [
    {
     "data": {
      "text/plain": [
       "(8231480, 4)"
      ]
     },
     "execution_count": 2,
     "metadata": {},
     "output_type": "execute_result"
    }
   ],
   "source": [
    "data.shape"
   ]
  },
  {
   "cell_type": "code",
   "execution_count": 3,
   "id": "2a9eb0c7",
   "metadata": {},
   "outputs": [
    {
     "data": {
      "text/html": [
       "<div>\n",
       "<style scoped>\n",
       "    .dataframe tbody tr th:only-of-type {\n",
       "        vertical-align: middle;\n",
       "    }\n",
       "\n",
       "    .dataframe tbody tr th {\n",
       "        vertical-align: top;\n",
       "    }\n",
       "\n",
       "    .dataframe thead th {\n",
       "        text-align: right;\n",
       "    }\n",
       "</style>\n",
       "<table border=\"1\" class=\"dataframe\">\n",
       "  <thead>\n",
       "    <tr style=\"text-align: right;\">\n",
       "      <th></th>\n",
       "      <th>Property_id</th>\n",
       "      <th>date</th>\n",
       "      <th>availability</th>\n",
       "      <th>price</th>\n",
       "    </tr>\n",
       "  </thead>\n",
       "  <tbody>\n",
       "    <tr>\n",
       "      <th>8231475</th>\n",
       "      <td>29809357</td>\n",
       "      <td>2018-11-11</td>\n",
       "      <td>f</td>\n",
       "      <td>NaN</td>\n",
       "    </tr>\n",
       "    <tr>\n",
       "      <th>8231476</th>\n",
       "      <td>29809357</td>\n",
       "      <td>2018-11-10</td>\n",
       "      <td>f</td>\n",
       "      <td>NaN</td>\n",
       "    </tr>\n",
       "    <tr>\n",
       "      <th>8231477</th>\n",
       "      <td>29809357</td>\n",
       "      <td>2018-11-09</td>\n",
       "      <td>f</td>\n",
       "      <td>NaN</td>\n",
       "    </tr>\n",
       "    <tr>\n",
       "      <th>8231478</th>\n",
       "      <td>29809357</td>\n",
       "      <td>2018-11-08</td>\n",
       "      <td>f</td>\n",
       "      <td>NaN</td>\n",
       "    </tr>\n",
       "    <tr>\n",
       "      <th>8231479</th>\n",
       "      <td>29809357</td>\n",
       "      <td>2018-11-07</td>\n",
       "      <td>f</td>\n",
       "      <td>NaN</td>\n",
       "    </tr>\n",
       "  </tbody>\n",
       "</table>\n",
       "</div>"
      ],
      "text/plain": [
       "         Property_id        date availability price\n",
       "8231475     29809357  2018-11-11            f   NaN\n",
       "8231476     29809357  2018-11-10            f   NaN\n",
       "8231477     29809357  2018-11-09            f   NaN\n",
       "8231478     29809357  2018-11-08            f   NaN\n",
       "8231479     29809357  2018-11-07            f   NaN"
      ]
     },
     "execution_count": 3,
     "metadata": {},
     "output_type": "execute_result"
    }
   ],
   "source": [
    "data.tail()"
   ]
  },
  {
   "cell_type": "code",
   "execution_count": 4,
   "id": "af06fb94-61d2-4ffe-9331-110fe5297c7f",
   "metadata": {},
   "outputs": [
    {
     "data": {
      "text/plain": [
       "Property_id      int64\n",
       "date            object\n",
       "availability    object\n",
       "price           object\n",
       "dtype: object"
      ]
     },
     "execution_count": 4,
     "metadata": {},
     "output_type": "execute_result"
    }
   ],
   "source": [
    "data.dtypes"
   ]
  },
  {
   "cell_type": "code",
   "execution_count": 5,
   "id": "a41c6e3c-ae9f-4a3e-96ec-45f229f0201f",
   "metadata": {},
   "outputs": [
    {
     "data": {
      "text/plain": [
       "0"
      ]
     },
     "execution_count": 5,
     "metadata": {},
     "output_type": "execute_result"
    }
   ],
   "source": [
    "data.duplicated().sum()"
   ]
  },
  {
   "cell_type": "code",
   "execution_count": 6,
   "id": "554ceea1-366f-4b3d-9362-e7d63bf6d9f4",
   "metadata": {},
   "outputs": [
    {
     "data": {
      "text/plain": [
       "Property_id           0\n",
       "date                  0\n",
       "availability          0\n",
       "price           6430639\n",
       "dtype: int64"
      ]
     },
     "execution_count": 6,
     "metadata": {},
     "output_type": "execute_result"
    }
   ],
   "source": [
    "data.isnull().sum()"
   ]
  },
  {
   "cell_type": "code",
   "execution_count": 7,
   "id": "72694f64-f223-434b-8180-498c54681369",
   "metadata": {},
   "outputs": [],
   "source": [
    "data['availability'] = data['availability'].map({'t': True, 'f': False})"
   ]
  },
  {
   "cell_type": "code",
   "execution_count": 8,
   "id": "6140eb7a-5a2d-442e-91e0-26e2ed896a10",
   "metadata": {},
   "outputs": [],
   "source": [
    "data['date'] = pd.to_datetime(data['date'], format='%Y-%m-%d')"
   ]
  },
  {
   "cell_type": "code",
   "execution_count": 9,
   "id": "dcbed63b",
   "metadata": {},
   "outputs": [],
   "source": [
    "# data['year'] = data['date'].dt.year.astype('int16')\n",
    "# data['month'] = data['date'].dt.month.astype('int8')\n",
    "# data['day'] = data['date'].dt.day.astype('int8')\n"
   ]
  },
  {
   "cell_type": "code",
   "execution_count": 10,
   "id": "5d94f5dd",
   "metadata": {},
   "outputs": [],
   "source": [
    "data.columns = [col.lower().replace(' ', '_') for col in data.columns]"
   ]
  },
  {
   "cell_type": "code",
   "execution_count": 11,
   "id": "463ef90c-e41c-4ea1-aa0d-063002c15b95",
   "metadata": {},
   "outputs": [],
   "source": [
    "data['price'] = data['price'].replace({'$': '', ' ': ''}, regex=True)\n",
    "data['price'] = data['price'].replace({',': ''}, regex=True)\n",
    "data['price'] = data['price'].str.strip()"
   ]
  },
  {
   "cell_type": "code",
   "execution_count": 12,
   "id": "488ddd7e",
   "metadata": {},
   "outputs": [],
   "source": [
    "# Remove any non-numeric characters except the decimal point\n",
    "data['price'] = data['price'].str.replace(r'[^0-9.]', '', regex=True)\n"
   ]
  },
  {
   "cell_type": "code",
   "execution_count": 13,
   "id": "3310e593-2bd1-45f2-bdac-8bc1f3be97f0",
   "metadata": {},
   "outputs": [],
   "source": [
    "data['price'] = pd.to_numeric(data['price'], errors='coerce')\n",
    "data['price']=data['price'].astype('float32')"
   ]
  },
  {
   "cell_type": "code",
   "execution_count": 14,
   "id": "f885749a-78b0-40ff-a359-52f22f80a187",
   "metadata": {},
   "outputs": [
    {
     "data": {
      "text/plain": [
       "property_id           0\n",
       "date                  0\n",
       "availability          0\n",
       "price           6430639\n",
       "dtype: int64"
      ]
     },
     "execution_count": 14,
     "metadata": {},
     "output_type": "execute_result"
    }
   ],
   "source": [
    "data.isnull().sum()"
   ]
  },
  {
   "cell_type": "code",
   "execution_count": 15,
   "id": "1be7066c-8f4c-4442-9f8f-bb22c89f6618",
   "metadata": {},
   "outputs": [],
   "source": [
    "if any(data['price'] < 0):\n",
    "    print(\"Warning: Negative price values found!\")"
   ]
  },
  {
   "cell_type": "code",
   "execution_count": 16,
   "id": "56ad6775",
   "metadata": {},
   "outputs": [
    {
     "data": {
      "text/plain": [
       "property_id              int64\n",
       "date            datetime64[ns]\n",
       "availability              bool\n",
       "price                  float32\n",
       "dtype: object"
      ]
     },
     "execution_count": 16,
     "metadata": {},
     "output_type": "execute_result"
    }
   ],
   "source": [
    "data.dtypes"
   ]
  },
  {
   "cell_type": "code",
   "execution_count": 17,
   "id": "e422344f",
   "metadata": {},
   "outputs": [
    {
     "data": {
      "text/html": [
       "<div>\n",
       "<style scoped>\n",
       "    .dataframe tbody tr th:only-of-type {\n",
       "        vertical-align: middle;\n",
       "    }\n",
       "\n",
       "    .dataframe tbody tr th {\n",
       "        vertical-align: top;\n",
       "    }\n",
       "\n",
       "    .dataframe thead th {\n",
       "        text-align: right;\n",
       "    }\n",
       "</style>\n",
       "<table border=\"1\" class=\"dataframe\">\n",
       "  <thead>\n",
       "    <tr style=\"text-align: right;\">\n",
       "      <th></th>\n",
       "      <th>property_id</th>\n",
       "      <th>date</th>\n",
       "      <th>availability</th>\n",
       "      <th>price</th>\n",
       "    </tr>\n",
       "  </thead>\n",
       "  <tbody>\n",
       "    <tr>\n",
       "      <th>0</th>\n",
       "      <td>2015</td>\n",
       "      <td>2019-09-10</td>\n",
       "      <td>False</td>\n",
       "      <td>NaN</td>\n",
       "    </tr>\n",
       "    <tr>\n",
       "      <th>1</th>\n",
       "      <td>2015</td>\n",
       "      <td>2019-09-09</td>\n",
       "      <td>False</td>\n",
       "      <td>NaN</td>\n",
       "    </tr>\n",
       "    <tr>\n",
       "      <th>2</th>\n",
       "      <td>2015</td>\n",
       "      <td>2019-09-08</td>\n",
       "      <td>False</td>\n",
       "      <td>NaN</td>\n",
       "    </tr>\n",
       "    <tr>\n",
       "      <th>3</th>\n",
       "      <td>2015</td>\n",
       "      <td>2019-09-07</td>\n",
       "      <td>False</td>\n",
       "      <td>NaN</td>\n",
       "    </tr>\n",
       "    <tr>\n",
       "      <th>4</th>\n",
       "      <td>2015</td>\n",
       "      <td>2019-09-06</td>\n",
       "      <td>False</td>\n",
       "      <td>NaN</td>\n",
       "    </tr>\n",
       "  </tbody>\n",
       "</table>\n",
       "</div>"
      ],
      "text/plain": [
       "   property_id       date  availability  price\n",
       "0         2015 2019-09-10         False    NaN\n",
       "1         2015 2019-09-09         False    NaN\n",
       "2         2015 2019-09-08         False    NaN\n",
       "3         2015 2019-09-07         False    NaN\n",
       "4         2015 2019-09-06         False    NaN"
      ]
     },
     "execution_count": 17,
     "metadata": {},
     "output_type": "execute_result"
    }
   ],
   "source": [
    "data.head()"
   ]
  },
  {
   "cell_type": "code",
   "execution_count": 18,
   "id": "05c53d29",
   "metadata": {},
   "outputs": [
    {
     "data": {
      "text/plain": [
       "{'property_id': array([    2015,   158890,    38296, ..., 29801233, 29802073, 29809357],\n",
       "       dtype=int64),\n",
       " 'date': <DatetimeArray>\n",
       " ['2019-09-10 00:00:00', '2019-09-09 00:00:00', '2019-09-08 00:00:00',\n",
       "  '2019-09-07 00:00:00', '2019-09-06 00:00:00', '2019-09-05 00:00:00',\n",
       "  '2019-09-04 00:00:00', '2019-09-03 00:00:00', '2019-09-02 00:00:00',\n",
       "  '2019-09-01 00:00:00',\n",
       "  ...\n",
       "  '2018-11-14 00:00:00', '2018-11-13 00:00:00', '2018-11-12 00:00:00',\n",
       "  '2018-11-11 00:00:00', '2018-11-10 00:00:00', '2018-11-09 00:00:00',\n",
       "  '2018-11-08 00:00:00', '2018-11-07 00:00:00', '2019-11-08 00:00:00',\n",
       "  '2019-11-07 00:00:00']\n",
       " Length: 367, dtype: datetime64[ns],\n",
       " 'availability': array([False,  True]),\n",
       " 'price': array([  nan,   76.,   78.,   77.,  188.,  107.,  106.,  105.,  104.,\n",
       "         100.,   98.,   97.,   95.,   94.,   96.,   93.,   91.,   90.,\n",
       "          92.,   89.,   88.,   86.,   87.,   83.,   82.,   80.,   69.,\n",
       "         161.,   68.,   62.,   61.,   58.,   57.,   56.,   55.,   63.,\n",
       "          64.,   65.,   66.,   74.,   73.,   84.,   81.,   79.,   85.,\n",
       "          75.,   72.,   50.,   26.,   30.,   36.,   39.,   29.,  119.,\n",
       "          44.,   45.,  180.,   70.,   53.,   52.,   42.,   43.,   47.,\n",
       "          46.,   51.,   48.,   49.,  120.,   59.,   41.,  160.,  154.,\n",
       "         155.,   23.,   40.,   60.,  135.,  131.,  132.,  133.,  130.,\n",
       "         129.,  149.,  169.,  229.,  289.,   34.,   35.,   54.,  200.,\n",
       "         103.,  109.,  112.,  111.,  113.,  108.,  102.,  140.,  150.,\n",
       "         197.,  230.,   37.,  210.,   38.,   33.,   32.,  296.,  331.,\n",
       "         125.,  540.,  244.,  440.,   99.,  145.,  110.,  186.,  170.,\n",
       "          67.,  208.,  207.,  204.,  202.,  198.,  233.,  232.,  196.,\n",
       "         231.,  195.,  194.,  228.,  193.,  181.,  189.,  187.,  178.,\n",
       "         175.,  177.,  176.,  174.,  182.,  173.,  172.,  171.,  168.,\n",
       "         151.,  156.,  152.,  165.,  162.,  158.,  159.,  163.,  167.,\n",
       "         153.,  157.,   25.,  300.,  375.,   28.,  490.,  101.,  144.,\n",
       "         138.,  137.,  227.,  136.,  126.,  122.,  128.,  143.,  147.,\n",
       "         139.,  148.,  220.,   71.,  123.,  141.,  114.,   24.,   27.,\n",
       "         115.,  116.,    9.,  134.,   19.,  121.,  124.,   31.,  190.,\n",
       "         222.,   20.,  185.,  127.,  205.,  260.,  288.,   18.,  255.,\n",
       "         275.,  325.,  245.,  265.,  285.,  235.,  295.,  215.,  225.,\n",
       "         199.,  209.,  183.,   17.,   15.,   16.,   13.,   12.,   14.,\n",
       "         191.,  146.,   22.,  320.,  280.,  118.,  310.,  340.,  142.,\n",
       "         250.,  455.,  117.,   21.,  329.,  399.,  650.,  330.,  450.,\n",
       "         184.,  213.,  444.,  580.,  216.,  214.,  212.,  211.,  241.,\n",
       "         248.,  258.,  278.,  269.,  271.,  282.,  293.,  290.,  284.,\n",
       "         274.,  272.,  283.,  263.,  259.,  268.,  257.,  262.,  256.,\n",
       "         266.,  254.,  252.,  253.,  264.,  270.,  273.,  236.,  226.,\n",
       "         299.,  433.,  349.,  431.,  429.,  426.,  412.,  307.,  164.,\n",
       "         192.,  206.,  219.,  240.,  360., 1000.,  600.,  279.,  500.,\n",
       "         390.,  590.,  350., 1320.,  238.,  355.,  555.,  239., 2500.,\n",
       "         218.,   11.,  616.,  657.,  653.,  612.,  649.,  609.,  646.,\n",
       "         606.,  642.,  602.,  639.,  599.,  635.,  596.,  595.,  632.,\n",
       "         592.,  628.,  597.,  615.,  400.,  670.,  385.,  422.,  335.,\n",
       "         365.,  435.,  425.,  420.,  415.,  305.,  383.,  363.,  343.,\n",
       "         334.,  304.,  311.,  309.,  303.,  292.,  267.,  243.,  423.,\n",
       "         395.,  430.,  234.,  203.,  179.,  499.,  249.,  525.,  520.,\n",
       "         502.,  306.,  301.,  291.,  251.,  380.,  217.,  201.,  550.,\n",
       "         700.,  900., 2225.,  297.,  797.,  805.,  345.,  224.,  221.,\n",
       "         247.,  246.,  359.,  695.,  495.,  406.,  485.,  407.,  410.,\n",
       "         471.,  439.,  541.,  539.,  237.,  277.,  579., 1020.,  369.,\n",
       "         379.,  449.,  530.,  319.,  480.,  470.,  570.,  460.,  510.,\n",
       "         281.,  479.,  166.,  899., 3499., 2999., 2499., 1599., 1299.,\n",
       "         223.,  625., 1900., 2000.,  370.,  750.,  302.,  242.,  549.,\n",
       "         419.,  389.,  298.,  362.,  341.,  352.,  999.,  459.,  469.,\n",
       "         388.,  445.,  526.,  424.,  523.,  517.,  417.,  514.,  512.,\n",
       "         413.,  509.,  411.,  506.,  408.,  503.,  404.,  403.,  402.,\n",
       "         401.,  467.,  436.,  409.,  405.,  441.,  487., 3000.,  466.,\n",
       "         472.,   10.,  327.,  381.,  366.,  675.,  393.,  354.,  348.,\n",
       "         344.,  373.,  321.,  316.,  323.,  347.,  317.,  332.,  318.,\n",
       "         286.,  276.,  346., 1250., 8000., 1050.,  699.,  885.,  660.,\n",
       "         690.,  505.,  326.,  453.,  421.,  339., 1200.,  432.,  261.,\n",
       "         308.,  312.,  799.,  315.,  800., 1300., 1021., 1015., 1010.,\n",
       "        1004.,  993.,  988.,  982.,  976.,  948.,  774.,  746.,  501.,\n",
       "         475.,  478., 1875., 2374., 1790., 1890.,  287.,  515.,  645.,\n",
       "        1400.,  578.,  328.,  337.,  333.,  336.,  338.,  351.,  342.,\n",
       "         322.,  324.,  314.,  313.,  397.,  368.,  398.,  372.,  294.,\n",
       "         353.,  358.,  356.,  371., 1800.,  888.,  720.,  845.,  594.,\n",
       "         532., 1032., 1097., 1156., 1142., 1064.,  367.,  361.,  855.,\n",
       "        1542., 1540.,  955.,  715., 1357.,  654.,  954.,  898.,  364.,\n",
       "         387.,  416.,  386.,  623.,  548.,  725.,  760.,  764.,  667.,\n",
       "        1205., 1850., 2365., 5000.,  461.,  462.,  384., 4939.,  558.,\n",
       "         565.,  494.,  376.,  546.,  357.,  538., 1795.,  798.,  655.,\n",
       "         377.,  378.,  611.,  608.,  605.,  598.,  588.,  585.,  567.,\n",
       "         559.,  571.,  572., 1199.,  529.,  759.,  489.,  382.,  374.,\n",
       "         391.,  463.,  779.,  788.,  689.,  535.,  521.,  880., 6000.,\n",
       "        1500.,  414.,  486.,  468., 3006., 2989., 2972., 2956., 2939.,\n",
       "        2922., 2826., 2730., 2634., 2538., 2442., 2333., 2237., 2142.,\n",
       "        2046., 2170.,  458.,  895.,  989., 1650., 1450.,  985.,  859.,\n",
       "         507.,  504.,  496.,  493.,  491.,  488.,  473., 1094.,  518.,\n",
       "         862.,  604., 8600.,  454.,  589.,  465.,  575.,  775.,  448.,\n",
       "         438.,  442.,  443.,  451.,  427.,  418.,  446., 1575., 1425.,\n",
       "         975., 1350., 1163.,  863.,  825., 1013.,  638., 1125., 1275.,\n",
       "        1725., 1238., 1088.,  713.,  394.,  434.,  482.,  534.,  464.,\n",
       "        1100.], dtype=float32)}"
      ]
     },
     "execution_count": 18,
     "metadata": {},
     "output_type": "execute_result"
    }
   ],
   "source": [
    "unique_values = {col: data[col].unique() for col in data.columns}\n",
    "unique_values"
   ]
  },
  {
   "cell_type": "code",
   "execution_count": 19,
   "id": "f5a090af",
   "metadata": {},
   "outputs": [
    {
     "data": {
      "text/plain": [
       "count    1.800841e+06\n",
       "mean     8.525882e+01\n",
       "std      1.824134e+02\n",
       "min      9.000000e+00\n",
       "25%      4.000000e+01\n",
       "50%      6.000000e+01\n",
       "75%      9.300000e+01\n",
       "max      8.600000e+03\n",
       "Name: price, dtype: float64"
      ]
     },
     "execution_count": 19,
     "metadata": {},
     "output_type": "execute_result"
    }
   ],
   "source": [
    "data['price'].describe()"
   ]
  },
  {
   "cell_type": "code",
   "execution_count": 20,
   "id": "3fbe4033",
   "metadata": {},
   "outputs": [],
   "source": [
    "# import pandas as pd\n",
    "\n",
    "# # Assuming 'data' is your DataFrame with the 'price' column\n",
    "# # Example of creating bins for 'price'\n",
    "# min_val = data['price'].min()  # Minimum price\n",
    "# q1 = data['price'].quantile(0.25)  # 25th percentile\n",
    "# median = data['price'].median()  # Median price\n",
    "# q3 = data['price'].quantile(0.75)  # 75th percentile\n",
    "# max_val = data['price'].max()  # Maximum price\n",
    "\n",
    "# # Define bin edges for labels\n",
    "# bins = [min_val, q1, median, q3, max_val, float('inf')]\n",
    "\n",
    "# # Define the labels\n",
    "# bin_labels = ['Very Low', 'Low', 'Medium', 'High', 'Very High']\n",
    "\n",
    "# # Create bins and assign labels\n",
    "# data['price_label'] = pd.cut(data['price'], bins=bins, labels=bin_labels, right=True)\n",
    "\n",
    "# # Display the DataFrame with the new labels\n",
    "# print(data[['price', 'price_label']])\n"
   ]
  },
  {
   "cell_type": "code",
   "execution_count": 21,
   "id": "529a1268",
   "metadata": {},
   "outputs": [
    {
     "name": "stderr",
     "output_type": "stream",
     "text": [
      "C:\\Users\\MRITH\\AppData\\Local\\Temp\\ipykernel_20340\\4018603020.py:2: FutureWarning: A value is trying to be set on a copy of a DataFrame or Series through chained assignment using an inplace method.\n",
      "The behavior will change in pandas 3.0. This inplace method will never work because the intermediate object on which we are setting values always behaves as a copy.\n",
      "\n",
      "For example, when doing 'df[col].method(value, inplace=True)', try using 'df.method({col: value}, inplace=True)' or df[col] = df[col].method(value) instead, to perform the operation inplace on the original object.\n",
      "\n",
      "\n",
      "  data['price'].fillna(np.nan,inplace=True)\n"
     ]
    }
   ],
   "source": [
    "import numpy as np\n",
    "data['price'].fillna(np.nan,inplace=True)"
   ]
  },
  {
   "cell_type": "code",
   "execution_count": 22,
   "id": "eca7588b",
   "metadata": {},
   "outputs": [
    {
     "data": {
      "text/html": [
       "<div>\n",
       "<style scoped>\n",
       "    .dataframe tbody tr th:only-of-type {\n",
       "        vertical-align: middle;\n",
       "    }\n",
       "\n",
       "    .dataframe tbody tr th {\n",
       "        vertical-align: top;\n",
       "    }\n",
       "\n",
       "    .dataframe thead th {\n",
       "        text-align: right;\n",
       "    }\n",
       "</style>\n",
       "<table border=\"1\" class=\"dataframe\">\n",
       "  <thead>\n",
       "    <tr style=\"text-align: right;\">\n",
       "      <th></th>\n",
       "      <th>property_id</th>\n",
       "      <th>date</th>\n",
       "      <th>availability</th>\n",
       "      <th>price</th>\n",
       "    </tr>\n",
       "  </thead>\n",
       "  <tbody>\n",
       "    <tr>\n",
       "      <th>128</th>\n",
       "      <td>2015</td>\n",
       "      <td>2019-05-05</td>\n",
       "      <td>True</td>\n",
       "      <td>76.0</td>\n",
       "    </tr>\n",
       "    <tr>\n",
       "      <th>129</th>\n",
       "      <td>2015</td>\n",
       "      <td>2019-05-04</td>\n",
       "      <td>True</td>\n",
       "      <td>76.0</td>\n",
       "    </tr>\n",
       "    <tr>\n",
       "      <th>130</th>\n",
       "      <td>2015</td>\n",
       "      <td>2019-05-03</td>\n",
       "      <td>True</td>\n",
       "      <td>76.0</td>\n",
       "    </tr>\n",
       "    <tr>\n",
       "      <th>131</th>\n",
       "      <td>2015</td>\n",
       "      <td>2019-05-02</td>\n",
       "      <td>True</td>\n",
       "      <td>76.0</td>\n",
       "    </tr>\n",
       "    <tr>\n",
       "      <th>132</th>\n",
       "      <td>2015</td>\n",
       "      <td>2019-05-01</td>\n",
       "      <td>True</td>\n",
       "      <td>78.0</td>\n",
       "    </tr>\n",
       "    <tr>\n",
       "      <th>...</th>\n",
       "      <td>...</td>\n",
       "      <td>...</td>\n",
       "      <td>...</td>\n",
       "      <td>...</td>\n",
       "    </tr>\n",
       "    <tr>\n",
       "      <th>8231443</th>\n",
       "      <td>29809357</td>\n",
       "      <td>2018-12-13</td>\n",
       "      <td>True</td>\n",
       "      <td>65.0</td>\n",
       "    </tr>\n",
       "    <tr>\n",
       "      <th>8231444</th>\n",
       "      <td>29809357</td>\n",
       "      <td>2018-12-12</td>\n",
       "      <td>True</td>\n",
       "      <td>65.0</td>\n",
       "    </tr>\n",
       "    <tr>\n",
       "      <th>8231445</th>\n",
       "      <td>29809357</td>\n",
       "      <td>2018-12-11</td>\n",
       "      <td>True</td>\n",
       "      <td>65.0</td>\n",
       "    </tr>\n",
       "    <tr>\n",
       "      <th>8231446</th>\n",
       "      <td>29809357</td>\n",
       "      <td>2018-12-10</td>\n",
       "      <td>True</td>\n",
       "      <td>65.0</td>\n",
       "    </tr>\n",
       "    <tr>\n",
       "      <th>8231474</th>\n",
       "      <td>29809357</td>\n",
       "      <td>2018-11-12</td>\n",
       "      <td>True</td>\n",
       "      <td>65.0</td>\n",
       "    </tr>\n",
       "  </tbody>\n",
       "</table>\n",
       "<p>1800841 rows × 4 columns</p>\n",
       "</div>"
      ],
      "text/plain": [
       "         property_id       date  availability  price\n",
       "128             2015 2019-05-05          True   76.0\n",
       "129             2015 2019-05-04          True   76.0\n",
       "130             2015 2019-05-03          True   76.0\n",
       "131             2015 2019-05-02          True   76.0\n",
       "132             2015 2019-05-01          True   78.0\n",
       "...              ...        ...           ...    ...\n",
       "8231443     29809357 2018-12-13          True   65.0\n",
       "8231444     29809357 2018-12-12          True   65.0\n",
       "8231445     29809357 2018-12-11          True   65.0\n",
       "8231446     29809357 2018-12-10          True   65.0\n",
       "8231474     29809357 2018-11-12          True   65.0\n",
       "\n",
       "[1800841 rows x 4 columns]"
      ]
     },
     "execution_count": 22,
     "metadata": {},
     "output_type": "execute_result"
    }
   ],
   "source": [
    "data[pd.notna(data['price'])]"
   ]
  },
  {
   "cell_type": "code",
   "execution_count": 23,
   "id": "85fedac9",
   "metadata": {},
   "outputs": [
    {
     "data": {
      "text/plain": [
       "property_id              int64\n",
       "date            datetime64[ns]\n",
       "availability              bool\n",
       "price                  float32\n",
       "dtype: object"
      ]
     },
     "execution_count": 23,
     "metadata": {},
     "output_type": "execute_result"
    }
   ],
   "source": [
    "data.dtypes"
   ]
  },
  {
   "cell_type": "code",
   "execution_count": 24,
   "id": "230ccd32",
   "metadata": {},
   "outputs": [],
   "source": [
    "data.to_csv('booking_summary.csv', index=False)"
   ]
  },
  {
   "cell_type": "code",
   "execution_count": 25,
   "id": "6c1658da",
   "metadata": {},
   "outputs": [
    {
     "data": {
      "text/plain": [
       "(8231480, 4)"
      ]
     },
     "execution_count": 25,
     "metadata": {},
     "output_type": "execute_result"
    }
   ],
   "source": [
    "data.shape"
   ]
  },
  {
   "cell_type": "code",
   "execution_count": 26,
   "id": "a5aa375f",
   "metadata": {},
   "outputs": [
    {
     "data": {
      "text/plain": [
       "32925920"
      ]
     },
     "execution_count": 26,
     "metadata": {},
     "output_type": "execute_result"
    }
   ],
   "source": [
    "data.size"
   ]
  },
  {
   "cell_type": "code",
   "execution_count": 28,
   "id": "b8a8274a",
   "metadata": {},
   "outputs": [
    {
     "name": "stdout",
     "output_type": "stream",
     "text": [
      "<class 'pandas.core.frame.DataFrame'>\n",
      "RangeIndex: 8231480 entries, 0 to 8231479\n",
      "Data columns (total 4 columns):\n",
      " #   Column        Dtype         \n",
      "---  ------        -----         \n",
      " 0   property_id   int64         \n",
      " 1   date          datetime64[ns]\n",
      " 2   availability  bool          \n",
      " 3   price         float32       \n",
      "dtypes: bool(1), datetime64[ns](1), float32(1), int64(1)\n",
      "memory usage: 164.9 MB\n"
     ]
    }
   ],
   "source": [
    "data.info()"
   ]
  },
  {
   "cell_type": "code",
   "execution_count": null,
   "id": "b5114c07",
   "metadata": {},
   "outputs": [],
   "source": []
  }
 ],
 "metadata": {
  "kernelspec": {
   "display_name": "Python 3",
   "language": "python",
   "name": "python3"
  },
  "language_info": {
   "codemirror_mode": {
    "name": "ipython",
    "version": 3
   },
   "file_extension": ".py",
   "mimetype": "text/x-python",
   "name": "python",
   "nbconvert_exporter": "python",
   "pygments_lexer": "ipython3",
   "version": "3.12.4"
  }
 },
 "nbformat": 4,
 "nbformat_minor": 5
}
